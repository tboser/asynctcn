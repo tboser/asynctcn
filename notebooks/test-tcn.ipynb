{
 "cells": [
  {
   "cell_type": "code",
   "execution_count": 1,
   "metadata": {},
   "outputs": [],
   "source": [
    "import sys\n",
    "import pandas as pd\n",
    "\n",
    "%load_ext autoreload\n",
    "%autoreload 2|"
   ]
  },
  {
   "cell_type": "code",
   "execution_count": 2,
   "metadata": {},
   "outputs": [],
   "source": [
    "sys.path.append('../')"
   ]
  },
  {
   "cell_type": "code",
   "execution_count": 3,
   "metadata": {},
   "outputs": [],
   "source": [
    "from asynctcn.dataset import DassaultDataset\n",
    "from asynctcn.model import TCN"
   ]
  },
  {
   "cell_type": "code",
   "execution_count": 4,
   "metadata": {},
   "outputs": [],
   "source": [
    "dataset = DassaultDataset('../data/Dassault_Cache/train/', 500)"
   ]
  },
  {
   "cell_type": "code",
   "execution_count": 32,
   "metadata": {},
   "outputs": [
    {
     "data": {
      "text/plain": [
       "array([[0.95883311, 0.36848628, 0.5861016 , ..., 0.43298845, 0.02498365,\n",
       "        0.57980902],\n",
       "       [0.95572834, 0.15588258, 0.54197029, ..., 0.36714388, 0.04981065,\n",
       "        0.41651629],\n",
       "       [0.9091907 , 0.79725448, 0.92282474, ..., 0.82108014, 0.02976096,\n",
       "        0.61577464]])"
      ]
     },
     "execution_count": 32,
     "metadata": {},
     "output_type": "execute_result"
    }
   ],
   "source": [
    "dataset[2000000][0]"
   ]
  },
  {
   "cell_type": "code",
   "execution_count": 13,
   "metadata": {},
   "outputs": [],
   "source": [
    "from torch.utils.data import DataLoader\n",
    "\n",
    "dataloader = DataLoader(dataset,\n",
    "                        batch_size=1,\n",
    "                        shuffle=True)"
   ]
  },
  {
   "cell_type": "code",
   "execution_count": 6,
   "metadata": {},
   "outputs": [],
   "source": [
    "summary_df = pd.read_csv('../data/Dassault_Cache/train/flight1/Summary.csv', sep=';')\n",
    "input_channels = len(summary_df[(summary_df['ENABLED'] == 1) & (summary_df['TYPE'] == 'INPUT')])\n",
    "outputs = [(l, 1) for l in summary_df[(summary_df['ENABLED'] == 1) & (summary_df['TYPE'] == 'OUTPUT')]['LABEL'].values]\n",
    "\n",
    "channel_sizes = [50]*8\n",
    "\n",
    "model = TCN(input_channels, outputs, channel_sizes, kernel_size=3, dropout=0.2)"
   ]
  },
  {
   "cell_type": "code",
   "execution_count": 10,
   "metadata": {},
   "outputs": [],
   "source": [
    "import torch\n",
    "import torch.nn.functional as F"
   ]
  },
  {
   "cell_type": "code",
   "execution_count": 9,
   "metadata": {},
   "outputs": [],
   "source": [
    "optimizer = torch.optim.SGD(model.parameters(), lr=0.005, momentum=0.9, weight_decay=0.0005)"
   ]
  },
  {
   "cell_type": "code",
   "execution_count": 22,
   "metadata": {},
   "outputs": [
    {
     "name": "stderr",
     "output_type": "stream",
     "text": [
      "/opt/miniconda3/envs/pytorch/lib/python3.7/site-packages/ipykernel_launcher.py:8: UserWarning: Using a target size (torch.Size([1])) that is different to the input size (torch.Size([1, 1])). This will likely lead to incorrect results due to broadcasting. Please ensure they have the same size.\n",
      "  \n"
     ]
    },
    {
     "name": "stdout",
     "output_type": "stream",
     "text": [
      "Train Epoch:  1 [     8/100000 (0%)]\tLearning rate: 0.0050\tLoss: 0.013474\n",
      "Train Epoch:  1 [    13/100000 (0%)]\tLearning rate: 0.0050\tLoss: 0.093731\n",
      "Train Epoch:  1 [    18/100000 (0%)]\tLearning rate: 0.0050\tLoss: 0.102379\n",
      "Train Epoch:  1 [    23/100000 (0%)]\tLearning rate: 0.0050\tLoss: 0.086932\n",
      "Train Epoch:  1 [    28/100000 (0%)]\tLearning rate: 0.0050\tLoss: 0.209128\n",
      "Train Epoch:  1 [    33/100000 (0%)]\tLearning rate: 0.0050\tLoss: 0.057062\n",
      "Train Epoch:  1 [    38/100000 (0%)]\tLearning rate: 0.0050\tLoss: 0.142867\n",
      "Train Epoch:  1 [    43/100000 (0%)]\tLearning rate: 0.0050\tLoss: 0.084415\n",
      "Train Epoch:  1 [    48/100000 (0%)]\tLearning rate: 0.0050\tLoss: 0.057352\n",
      "Train Epoch:  1 [    53/100000 (0%)]\tLearning rate: 0.0050\tLoss: 0.190942\n",
      "Train Epoch:  1 [    58/100000 (0%)]\tLearning rate: 0.0050\tLoss: 0.111292\n",
      "Train Epoch:  1 [    63/100000 (0%)]\tLearning rate: 0.0050\tLoss: 0.083019\n",
      "Train Epoch:  1 [    68/100000 (0%)]\tLearning rate: 0.0050\tLoss: 0.088981\n",
      "Train Epoch:  1 [    73/100000 (0%)]\tLearning rate: 0.0050\tLoss: 0.050864\n",
      "Train Epoch:  1 [    78/100000 (0%)]\tLearning rate: 0.0050\tLoss: 0.147294\n",
      "Train Epoch:  1 [    83/100000 (0%)]\tLearning rate: 0.0050\tLoss: 0.058292\n",
      "Train Epoch:  1 [    88/100000 (0%)]\tLearning rate: 0.0050\tLoss: 0.024680\n",
      "Train Epoch:  1 [    93/100000 (0%)]\tLearning rate: 0.0050\tLoss: 0.143479\n",
      "Train Epoch:  1 [    98/100000 (0%)]\tLearning rate: 0.0050\tLoss: 0.064027\n",
      "Train Epoch:  1 [   103/100000 (0%)]\tLearning rate: 0.0050\tLoss: 0.065613\n",
      "Train Epoch:  1 [   108/100000 (0%)]\tLearning rate: 0.0050\tLoss: 0.199995\n",
      "Train Epoch:  1 [   113/100000 (0%)]\tLearning rate: 0.0050\tLoss: 0.339152\n",
      "Train Epoch:  1 [   118/100000 (0%)]\tLearning rate: 0.0050\tLoss: 0.113259\n",
      "Train Epoch:  1 [   123/100000 (0%)]\tLearning rate: 0.0050\tLoss: 0.130726\n",
      "Train Epoch:  1 [   128/100000 (0%)]\tLearning rate: 0.0050\tLoss: 0.057723\n",
      "Train Epoch:  1 [   133/100000 (0%)]\tLearning rate: 0.0050\tLoss: 0.070854\n",
      "Train Epoch:  1 [   138/100000 (0%)]\tLearning rate: 0.0050\tLoss: 0.087210\n",
      "Train Epoch:  1 [   143/100000 (0%)]\tLearning rate: 0.0050\tLoss: 0.189086\n",
      "Train Epoch:  1 [   148/100000 (0%)]\tLearning rate: 0.0050\tLoss: 0.110004\n",
      "Train Epoch:  1 [   153/100000 (0%)]\tLearning rate: 0.0050\tLoss: 0.062969\n",
      "Train Epoch:  1 [   158/100000 (0%)]\tLearning rate: 0.0050\tLoss: 0.098483\n",
      "Train Epoch:  1 [   163/100000 (0%)]\tLearning rate: 0.0050\tLoss: 0.115404\n",
      "Train Epoch:  1 [   168/100000 (0%)]\tLearning rate: 0.0050\tLoss: 0.070693\n",
      "Train Epoch:  1 [   173/100000 (0%)]\tLearning rate: 0.0050\tLoss: 0.173084\n",
      "Train Epoch:  1 [   178/100000 (0%)]\tLearning rate: 0.0050\tLoss: 0.099468\n",
      "Train Epoch:  1 [   183/100000 (0%)]\tLearning rate: 0.0050\tLoss: 0.088297\n",
      "Train Epoch:  1 [   188/100000 (0%)]\tLearning rate: 0.0050\tLoss: 0.075464\n",
      "Train Epoch:  1 [   193/100000 (0%)]\tLearning rate: 0.0050\tLoss: 0.154375\n",
      "Train Epoch:  1 [   198/100000 (0%)]\tLearning rate: 0.0050\tLoss: 0.138967\n",
      "Train Epoch:  1 [   203/100000 (0%)]\tLearning rate: 0.0050\tLoss: 0.076085\n",
      "Train Epoch:  1 [   208/100000 (0%)]\tLearning rate: 0.0050\tLoss: 0.281106\n",
      "Train Epoch:  1 [   213/100000 (0%)]\tLearning rate: 0.0050\tLoss: 0.186545\n",
      "Train Epoch:  1 [   218/100000 (0%)]\tLearning rate: 0.0050\tLoss: 0.072224\n",
      "Train Epoch:  1 [   223/100000 (0%)]\tLearning rate: 0.0050\tLoss: 0.210906\n",
      "Train Epoch:  1 [   228/100000 (0%)]\tLearning rate: 0.0050\tLoss: 0.057008\n",
      "Train Epoch:  1 [   233/100000 (0%)]\tLearning rate: 0.0050\tLoss: 0.132484\n",
      "Train Epoch:  1 [   238/100000 (0%)]\tLearning rate: 0.0050\tLoss: 0.027571\n",
      "Train Epoch:  1 [   243/100000 (0%)]\tLearning rate: 0.0050\tLoss: 0.115849\n",
      "Train Epoch:  1 [   248/100000 (0%)]\tLearning rate: 0.0050\tLoss: 0.056661\n",
      "Train Epoch:  1 [   253/100000 (0%)]\tLearning rate: 0.0050\tLoss: 0.119141\n",
      "Train Epoch:  1 [   258/100000 (0%)]\tLearning rate: 0.0050\tLoss: 0.134084\n",
      "Train Epoch:  1 [   263/100000 (0%)]\tLearning rate: 0.0050\tLoss: 0.095137\n",
      "Train Epoch:  1 [   268/100000 (0%)]\tLearning rate: 0.0050\tLoss: 0.139345\n",
      "Train Epoch:  1 [   273/100000 (0%)]\tLearning rate: 0.0050\tLoss: 0.086528\n",
      "Train Epoch:  1 [   278/100000 (0%)]\tLearning rate: 0.0050\tLoss: 0.053163\n",
      "Train Epoch:  1 [   283/100000 (0%)]\tLearning rate: 0.0050\tLoss: 0.072637\n",
      "Train Epoch:  1 [   288/100000 (0%)]\tLearning rate: 0.0050\tLoss: 0.087477\n",
      "Train Epoch:  1 [   293/100000 (0%)]\tLearning rate: 0.0050\tLoss: 0.138142\n",
      "Train Epoch:  1 [   298/100000 (0%)]\tLearning rate: 0.0050\tLoss: 0.087057\n",
      "Train Epoch:  1 [   303/100000 (0%)]\tLearning rate: 0.0050\tLoss: 0.180120\n",
      "Train Epoch:  1 [   308/100000 (0%)]\tLearning rate: 0.0050\tLoss: 0.081428\n",
      "Train Epoch:  1 [   313/100000 (0%)]\tLearning rate: 0.0050\tLoss: 0.093994\n",
      "Train Epoch:  1 [   318/100000 (0%)]\tLearning rate: 0.0050\tLoss: 0.096331\n",
      "Train Epoch:  1 [   323/100000 (0%)]\tLearning rate: 0.0050\tLoss: 0.062074\n",
      "Train Epoch:  1 [   328/100000 (0%)]\tLearning rate: 0.0050\tLoss: 0.069259\n",
      "Train Epoch:  1 [   333/100000 (0%)]\tLearning rate: 0.0050\tLoss: 0.205794\n",
      "Train Epoch:  1 [   338/100000 (0%)]\tLearning rate: 0.0050\tLoss: 0.091173\n",
      "Train Epoch:  1 [   343/100000 (0%)]\tLearning rate: 0.0050\tLoss: 0.105317\n",
      "Train Epoch:  1 [   348/100000 (0%)]\tLearning rate: 0.0050\tLoss: 0.075677\n",
      "Train Epoch:  1 [   353/100000 (0%)]\tLearning rate: 0.0050\tLoss: 0.077138\n",
      "Train Epoch:  1 [   358/100000 (0%)]\tLearning rate: 0.0050\tLoss: 0.149414\n",
      "Train Epoch:  1 [   363/100000 (0%)]\tLearning rate: 0.0050\tLoss: 0.114438\n",
      "Train Epoch:  1 [   368/100000 (0%)]\tLearning rate: 0.0050\tLoss: 0.149675\n",
      "Train Epoch:  1 [   373/100000 (0%)]\tLearning rate: 0.0050\tLoss: 0.084022\n",
      "Train Epoch:  1 [   378/100000 (0%)]\tLearning rate: 0.0050\tLoss: 0.203317\n",
      "Train Epoch:  1 [   383/100000 (0%)]\tLearning rate: 0.0050\tLoss: 0.142579\n",
      "Train Epoch:  1 [   388/100000 (0%)]\tLearning rate: 0.0050\tLoss: 0.197045\n",
      "Train Epoch:  1 [   393/100000 (0%)]\tLearning rate: 0.0050\tLoss: 0.104887\n",
      "Train Epoch:  1 [   398/100000 (0%)]\tLearning rate: 0.0050\tLoss: 0.142740\n",
      "Train Epoch:  1 [   403/100000 (0%)]\tLearning rate: 0.0050\tLoss: 0.167664\n",
      "Train Epoch:  1 [   408/100000 (0%)]\tLearning rate: 0.0050\tLoss: 0.095065\n",
      "Train Epoch:  1 [   413/100000 (0%)]\tLearning rate: 0.0050\tLoss: 0.132626\n",
      "Train Epoch:  1 [   418/100000 (0%)]\tLearning rate: 0.0050\tLoss: 0.163878\n",
      "Train Epoch:  1 [   423/100000 (0%)]\tLearning rate: 0.0050\tLoss: 0.054329\n",
      "Train Epoch:  1 [   428/100000 (0%)]\tLearning rate: 0.0050\tLoss: 0.042621\n",
      "Train Epoch:  1 [   433/100000 (0%)]\tLearning rate: 0.0050\tLoss: 0.183133\n",
      "Train Epoch:  1 [   438/100000 (0%)]\tLearning rate: 0.0050\tLoss: 0.158899\n",
      "Train Epoch:  1 [   443/100000 (0%)]\tLearning rate: 0.0050\tLoss: 0.043540\n",
      "Train Epoch:  1 [   448/100000 (0%)]\tLearning rate: 0.0050\tLoss: 0.081234\n",
      "Train Epoch:  1 [   453/100000 (0%)]\tLearning rate: 0.0050\tLoss: 0.112111\n",
      "Train Epoch:  1 [   458/100000 (0%)]\tLearning rate: 0.0050\tLoss: 0.089633\n",
      "Train Epoch:  1 [   463/100000 (0%)]\tLearning rate: 0.0050\tLoss: 0.067054\n",
      "Train Epoch:  1 [   468/100000 (0%)]\tLearning rate: 0.0050\tLoss: 0.098047\n",
      "Train Epoch:  1 [   473/100000 (0%)]\tLearning rate: 0.0050\tLoss: 0.062872\n",
      "Train Epoch:  1 [   478/100000 (0%)]\tLearning rate: 0.0050\tLoss: 0.009683\n",
      "Train Epoch:  1 [   483/100000 (0%)]\tLearning rate: 0.0050\tLoss: 0.121053\n",
      "Train Epoch:  1 [   488/100000 (0%)]\tLearning rate: 0.0050\tLoss: 0.039704\n",
      "Train Epoch:  1 [   493/100000 (0%)]\tLearning rate: 0.0050\tLoss: 0.115850\n",
      "Train Epoch:  1 [   498/100000 (0%)]\tLearning rate: 0.0050\tLoss: 0.039368\n",
      "Train Epoch:  1 [   503/100000 (1%)]\tLearning rate: 0.0050\tLoss: 0.066721\n",
      "Train Epoch:  1 [   508/100000 (1%)]\tLearning rate: 0.0050\tLoss: 0.059881\n",
      "Train Epoch:  1 [   513/100000 (1%)]\tLearning rate: 0.0050\tLoss: 0.080085\n",
      "Train Epoch:  1 [   518/100000 (1%)]\tLearning rate: 0.0050\tLoss: 0.063230\n",
      "Train Epoch:  1 [   523/100000 (1%)]\tLearning rate: 0.0050\tLoss: 0.087971\n",
      "Train Epoch:  1 [   528/100000 (1%)]\tLearning rate: 0.0050\tLoss: 0.173172\n",
      "Train Epoch:  1 [   533/100000 (1%)]\tLearning rate: 0.0050\tLoss: 0.046349\n",
      "Train Epoch:  1 [   538/100000 (1%)]\tLearning rate: 0.0050\tLoss: 0.033741\n",
      "Train Epoch:  1 [   543/100000 (1%)]\tLearning rate: 0.0050\tLoss: 0.122331\n",
      "Train Epoch:  1 [   548/100000 (1%)]\tLearning rate: 0.0050\tLoss: 0.142000\n",
      "Train Epoch:  1 [   553/100000 (1%)]\tLearning rate: 0.0050\tLoss: 0.111286\n",
      "Train Epoch:  1 [   558/100000 (1%)]\tLearning rate: 0.0050\tLoss: 0.088840\n",
      "Train Epoch:  1 [   563/100000 (1%)]\tLearning rate: 0.0050\tLoss: 0.129049\n"
     ]
    },
    {
     "name": "stdout",
     "output_type": "stream",
     "text": [
      "Train Epoch:  1 [   568/100000 (1%)]\tLearning rate: 0.0050\tLoss: 0.081977\n",
      "Train Epoch:  1 [   573/100000 (1%)]\tLearning rate: 0.0050\tLoss: 0.099779\n",
      "Train Epoch:  1 [   578/100000 (1%)]\tLearning rate: 0.0050\tLoss: 0.114555\n",
      "Train Epoch:  1 [   583/100000 (1%)]\tLearning rate: 0.0050\tLoss: 0.076340\n"
     ]
    },
    {
     "ename": "KeyboardInterrupt",
     "evalue": "",
     "output_type": "error",
     "traceback": [
      "\u001b[0;31m---------------------------------------------------------------------------\u001b[0m",
      "\u001b[0;31mKeyboardInterrupt\u001b[0m                         Traceback (most recent call last)",
      "\u001b[0;32m<ipython-input-22-c6e27015ac23>\u001b[0m in \u001b[0;36m<module>\u001b[0;34m\u001b[0m\n\u001b[1;32m      5\u001b[0m \u001b[0;32mfor\u001b[0m \u001b[0mi\u001b[0m\u001b[0;34m,\u001b[0m \u001b[0;34m(\u001b[0m\u001b[0mX\u001b[0m\u001b[0;34m,\u001b[0m \u001b[0my\u001b[0m\u001b[0;34m,\u001b[0m \u001b[0mlab\u001b[0m\u001b[0;34m)\u001b[0m \u001b[0;32min\u001b[0m \u001b[0menumerate\u001b[0m\u001b[0;34m(\u001b[0m\u001b[0mdataloader\u001b[0m\u001b[0;34m)\u001b[0m\u001b[0;34m:\u001b[0m\u001b[0;34m\u001b[0m\u001b[0;34m\u001b[0m\u001b[0m\n\u001b[1;32m      6\u001b[0m     \u001b[0moptimizer\u001b[0m\u001b[0;34m.\u001b[0m\u001b[0mzero_grad\u001b[0m\u001b[0;34m(\u001b[0m\u001b[0;34m)\u001b[0m\u001b[0;34m\u001b[0m\u001b[0;34m\u001b[0m\u001b[0m\n\u001b[0;32m----> 7\u001b[0;31m     \u001b[0moutput\u001b[0m \u001b[0;34m=\u001b[0m \u001b[0mmodel\u001b[0m\u001b[0;34m(\u001b[0m\u001b[0mX\u001b[0m\u001b[0;34m.\u001b[0m\u001b[0mfloat\u001b[0m\u001b[0;34m(\u001b[0m\u001b[0;34m)\u001b[0m\u001b[0;34m,\u001b[0m \u001b[0mint\u001b[0m\u001b[0;34m(\u001b[0m\u001b[0mlab\u001b[0m\u001b[0;34m[\u001b[0m\u001b[0;36m0\u001b[0m\u001b[0;34m]\u001b[0m\u001b[0;34m)\u001b[0m\u001b[0;34m)\u001b[0m\u001b[0;34m\u001b[0m\u001b[0;34m\u001b[0m\u001b[0m\n\u001b[0m\u001b[1;32m      8\u001b[0m     \u001b[0mloss\u001b[0m \u001b[0;34m=\u001b[0m \u001b[0mF\u001b[0m\u001b[0;34m.\u001b[0m\u001b[0mmse_loss\u001b[0m\u001b[0;34m(\u001b[0m\u001b[0moutput\u001b[0m\u001b[0;34m,\u001b[0m \u001b[0my\u001b[0m\u001b[0;34m.\u001b[0m\u001b[0mfloat\u001b[0m\u001b[0;34m(\u001b[0m\u001b[0;34m)\u001b[0m\u001b[0;34m)\u001b[0m\u001b[0;34m\u001b[0m\u001b[0;34m\u001b[0m\u001b[0m\n\u001b[1;32m      9\u001b[0m     \u001b[0mloss\u001b[0m\u001b[0;34m.\u001b[0m\u001b[0mbackward\u001b[0m\u001b[0;34m(\u001b[0m\u001b[0;34m)\u001b[0m\u001b[0;34m\u001b[0m\u001b[0;34m\u001b[0m\u001b[0m\n",
      "\u001b[0;32m/opt/miniconda3/envs/pytorch/lib/python3.7/site-packages/torch/nn/modules/module.py\u001b[0m in \u001b[0;36m__call__\u001b[0;34m(self, *input, **kwargs)\u001b[0m\n\u001b[1;32m    548\u001b[0m             \u001b[0mresult\u001b[0m \u001b[0;34m=\u001b[0m \u001b[0mself\u001b[0m\u001b[0;34m.\u001b[0m\u001b[0m_slow_forward\u001b[0m\u001b[0;34m(\u001b[0m\u001b[0;34m*\u001b[0m\u001b[0minput\u001b[0m\u001b[0;34m,\u001b[0m \u001b[0;34m**\u001b[0m\u001b[0mkwargs\u001b[0m\u001b[0;34m)\u001b[0m\u001b[0;34m\u001b[0m\u001b[0;34m\u001b[0m\u001b[0m\n\u001b[1;32m    549\u001b[0m         \u001b[0;32melse\u001b[0m\u001b[0;34m:\u001b[0m\u001b[0;34m\u001b[0m\u001b[0;34m\u001b[0m\u001b[0m\n\u001b[0;32m--> 550\u001b[0;31m             \u001b[0mresult\u001b[0m \u001b[0;34m=\u001b[0m \u001b[0mself\u001b[0m\u001b[0;34m.\u001b[0m\u001b[0mforward\u001b[0m\u001b[0;34m(\u001b[0m\u001b[0;34m*\u001b[0m\u001b[0minput\u001b[0m\u001b[0;34m,\u001b[0m \u001b[0;34m**\u001b[0m\u001b[0mkwargs\u001b[0m\u001b[0;34m)\u001b[0m\u001b[0;34m\u001b[0m\u001b[0;34m\u001b[0m\u001b[0m\n\u001b[0m\u001b[1;32m    551\u001b[0m         \u001b[0;32mfor\u001b[0m \u001b[0mhook\u001b[0m \u001b[0;32min\u001b[0m \u001b[0mself\u001b[0m\u001b[0;34m.\u001b[0m\u001b[0m_forward_hooks\u001b[0m\u001b[0;34m.\u001b[0m\u001b[0mvalues\u001b[0m\u001b[0;34m(\u001b[0m\u001b[0;34m)\u001b[0m\u001b[0;34m:\u001b[0m\u001b[0;34m\u001b[0m\u001b[0;34m\u001b[0m\u001b[0m\n\u001b[1;32m    552\u001b[0m             \u001b[0mhook_result\u001b[0m \u001b[0;34m=\u001b[0m \u001b[0mhook\u001b[0m\u001b[0;34m(\u001b[0m\u001b[0mself\u001b[0m\u001b[0;34m,\u001b[0m \u001b[0minput\u001b[0m\u001b[0;34m,\u001b[0m \u001b[0mresult\u001b[0m\u001b[0;34m)\u001b[0m\u001b[0;34m\u001b[0m\u001b[0;34m\u001b[0m\u001b[0m\n",
      "\u001b[0;32m~/Documents/side-projects/asynchronus-tcn/asynctcn/model.py\u001b[0m in \u001b[0;36mforward\u001b[0;34m(self, x, key)\u001b[0m\n\u001b[1;32m     29\u001b[0m \u001b[0;34m\u001b[0m\u001b[0m\n\u001b[1;32m     30\u001b[0m     \u001b[0;32mdef\u001b[0m \u001b[0mforward\u001b[0m\u001b[0;34m(\u001b[0m\u001b[0mself\u001b[0m\u001b[0;34m,\u001b[0m \u001b[0mx\u001b[0m\u001b[0;34m,\u001b[0m \u001b[0mkey\u001b[0m\u001b[0;34m)\u001b[0m\u001b[0;34m:\u001b[0m\u001b[0;34m\u001b[0m\u001b[0;34m\u001b[0m\u001b[0m\n\u001b[0;32m---> 31\u001b[0;31m         \u001b[0my1\u001b[0m \u001b[0;34m=\u001b[0m \u001b[0mself\u001b[0m\u001b[0;34m.\u001b[0m\u001b[0mtcn\u001b[0m\u001b[0;34m(\u001b[0m\u001b[0mx\u001b[0m\u001b[0;34m)\u001b[0m\u001b[0;34m\u001b[0m\u001b[0;34m\u001b[0m\u001b[0m\n\u001b[0m\u001b[1;32m     32\u001b[0m         \u001b[0mout\u001b[0m \u001b[0;34m=\u001b[0m \u001b[0mself\u001b[0m\u001b[0;34m.\u001b[0m\u001b[0mlinear_layers\u001b[0m\u001b[0;34m[\u001b[0m\u001b[0mkey\u001b[0m\u001b[0;34m]\u001b[0m\u001b[0;34m(\u001b[0m\u001b[0my1\u001b[0m\u001b[0;34m[\u001b[0m\u001b[0;34m:\u001b[0m\u001b[0;34m,\u001b[0m \u001b[0;34m:\u001b[0m\u001b[0;34m,\u001b[0m \u001b[0;34m-\u001b[0m\u001b[0;36m1\u001b[0m\u001b[0;34m]\u001b[0m\u001b[0;34m)\u001b[0m\u001b[0;34m\u001b[0m\u001b[0;34m\u001b[0m\u001b[0m\n\u001b[1;32m     33\u001b[0m         \u001b[0;32mreturn\u001b[0m \u001b[0mout\u001b[0m\u001b[0;34m\u001b[0m\u001b[0;34m\u001b[0m\u001b[0m\n",
      "\u001b[0;32m/opt/miniconda3/envs/pytorch/lib/python3.7/site-packages/torch/nn/modules/module.py\u001b[0m in \u001b[0;36m__call__\u001b[0;34m(self, *input, **kwargs)\u001b[0m\n\u001b[1;32m    548\u001b[0m             \u001b[0mresult\u001b[0m \u001b[0;34m=\u001b[0m \u001b[0mself\u001b[0m\u001b[0;34m.\u001b[0m\u001b[0m_slow_forward\u001b[0m\u001b[0;34m(\u001b[0m\u001b[0;34m*\u001b[0m\u001b[0minput\u001b[0m\u001b[0;34m,\u001b[0m \u001b[0;34m**\u001b[0m\u001b[0mkwargs\u001b[0m\u001b[0;34m)\u001b[0m\u001b[0;34m\u001b[0m\u001b[0;34m\u001b[0m\u001b[0m\n\u001b[1;32m    549\u001b[0m         \u001b[0;32melse\u001b[0m\u001b[0;34m:\u001b[0m\u001b[0;34m\u001b[0m\u001b[0;34m\u001b[0m\u001b[0m\n\u001b[0;32m--> 550\u001b[0;31m             \u001b[0mresult\u001b[0m \u001b[0;34m=\u001b[0m \u001b[0mself\u001b[0m\u001b[0;34m.\u001b[0m\u001b[0mforward\u001b[0m\u001b[0;34m(\u001b[0m\u001b[0;34m*\u001b[0m\u001b[0minput\u001b[0m\u001b[0;34m,\u001b[0m \u001b[0;34m**\u001b[0m\u001b[0mkwargs\u001b[0m\u001b[0;34m)\u001b[0m\u001b[0;34m\u001b[0m\u001b[0;34m\u001b[0m\u001b[0m\n\u001b[0m\u001b[1;32m    551\u001b[0m         \u001b[0;32mfor\u001b[0m \u001b[0mhook\u001b[0m \u001b[0;32min\u001b[0m \u001b[0mself\u001b[0m\u001b[0;34m.\u001b[0m\u001b[0m_forward_hooks\u001b[0m\u001b[0;34m.\u001b[0m\u001b[0mvalues\u001b[0m\u001b[0;34m(\u001b[0m\u001b[0;34m)\u001b[0m\u001b[0;34m:\u001b[0m\u001b[0;34m\u001b[0m\u001b[0;34m\u001b[0m\u001b[0m\n\u001b[1;32m    552\u001b[0m             \u001b[0mhook_result\u001b[0m \u001b[0;34m=\u001b[0m \u001b[0mhook\u001b[0m\u001b[0;34m(\u001b[0m\u001b[0mself\u001b[0m\u001b[0;34m,\u001b[0m \u001b[0minput\u001b[0m\u001b[0;34m,\u001b[0m \u001b[0mresult\u001b[0m\u001b[0;34m)\u001b[0m\u001b[0;34m\u001b[0m\u001b[0;34m\u001b[0m\u001b[0m\n",
      "\u001b[0;32m~/Documents/side-projects/asynchronus-tcn/asynctcn/tcn.py\u001b[0m in \u001b[0;36mforward\u001b[0;34m(self, x)\u001b[0m\n\u001b[1;32m     64\u001b[0m \u001b[0;34m\u001b[0m\u001b[0m\n\u001b[1;32m     65\u001b[0m     \u001b[0;32mdef\u001b[0m \u001b[0mforward\u001b[0m\u001b[0;34m(\u001b[0m\u001b[0mself\u001b[0m\u001b[0;34m,\u001b[0m \u001b[0mx\u001b[0m\u001b[0;34m)\u001b[0m\u001b[0;34m:\u001b[0m\u001b[0;34m\u001b[0m\u001b[0;34m\u001b[0m\u001b[0m\n\u001b[0;32m---> 66\u001b[0;31m         \u001b[0;32mreturn\u001b[0m \u001b[0mself\u001b[0m\u001b[0;34m.\u001b[0m\u001b[0mnetwork\u001b[0m\u001b[0;34m(\u001b[0m\u001b[0mx\u001b[0m\u001b[0;34m)\u001b[0m\u001b[0;34m\u001b[0m\u001b[0;34m\u001b[0m\u001b[0m\n\u001b[0m",
      "\u001b[0;32m/opt/miniconda3/envs/pytorch/lib/python3.7/site-packages/torch/nn/modules/module.py\u001b[0m in \u001b[0;36m__call__\u001b[0;34m(self, *input, **kwargs)\u001b[0m\n\u001b[1;32m    548\u001b[0m             \u001b[0mresult\u001b[0m \u001b[0;34m=\u001b[0m \u001b[0mself\u001b[0m\u001b[0;34m.\u001b[0m\u001b[0m_slow_forward\u001b[0m\u001b[0;34m(\u001b[0m\u001b[0;34m*\u001b[0m\u001b[0minput\u001b[0m\u001b[0;34m,\u001b[0m \u001b[0;34m**\u001b[0m\u001b[0mkwargs\u001b[0m\u001b[0;34m)\u001b[0m\u001b[0;34m\u001b[0m\u001b[0;34m\u001b[0m\u001b[0m\n\u001b[1;32m    549\u001b[0m         \u001b[0;32melse\u001b[0m\u001b[0;34m:\u001b[0m\u001b[0;34m\u001b[0m\u001b[0;34m\u001b[0m\u001b[0m\n\u001b[0;32m--> 550\u001b[0;31m             \u001b[0mresult\u001b[0m \u001b[0;34m=\u001b[0m \u001b[0mself\u001b[0m\u001b[0;34m.\u001b[0m\u001b[0mforward\u001b[0m\u001b[0;34m(\u001b[0m\u001b[0;34m*\u001b[0m\u001b[0minput\u001b[0m\u001b[0;34m,\u001b[0m \u001b[0;34m**\u001b[0m\u001b[0mkwargs\u001b[0m\u001b[0;34m)\u001b[0m\u001b[0;34m\u001b[0m\u001b[0;34m\u001b[0m\u001b[0m\n\u001b[0m\u001b[1;32m    551\u001b[0m         \u001b[0;32mfor\u001b[0m \u001b[0mhook\u001b[0m \u001b[0;32min\u001b[0m \u001b[0mself\u001b[0m\u001b[0;34m.\u001b[0m\u001b[0m_forward_hooks\u001b[0m\u001b[0;34m.\u001b[0m\u001b[0mvalues\u001b[0m\u001b[0;34m(\u001b[0m\u001b[0;34m)\u001b[0m\u001b[0;34m:\u001b[0m\u001b[0;34m\u001b[0m\u001b[0;34m\u001b[0m\u001b[0m\n\u001b[1;32m    552\u001b[0m             \u001b[0mhook_result\u001b[0m \u001b[0;34m=\u001b[0m \u001b[0mhook\u001b[0m\u001b[0;34m(\u001b[0m\u001b[0mself\u001b[0m\u001b[0;34m,\u001b[0m \u001b[0minput\u001b[0m\u001b[0;34m,\u001b[0m \u001b[0mresult\u001b[0m\u001b[0;34m)\u001b[0m\u001b[0;34m\u001b[0m\u001b[0;34m\u001b[0m\u001b[0m\n",
      "\u001b[0;32m/opt/miniconda3/envs/pytorch/lib/python3.7/site-packages/torch/nn/modules/container.py\u001b[0m in \u001b[0;36mforward\u001b[0;34m(self, input)\u001b[0m\n\u001b[1;32m     98\u001b[0m     \u001b[0;32mdef\u001b[0m \u001b[0mforward\u001b[0m\u001b[0;34m(\u001b[0m\u001b[0mself\u001b[0m\u001b[0;34m,\u001b[0m \u001b[0minput\u001b[0m\u001b[0;34m)\u001b[0m\u001b[0;34m:\u001b[0m\u001b[0;34m\u001b[0m\u001b[0;34m\u001b[0m\u001b[0m\n\u001b[1;32m     99\u001b[0m         \u001b[0;32mfor\u001b[0m \u001b[0mmodule\u001b[0m \u001b[0;32min\u001b[0m \u001b[0mself\u001b[0m\u001b[0;34m:\u001b[0m\u001b[0;34m\u001b[0m\u001b[0;34m\u001b[0m\u001b[0m\n\u001b[0;32m--> 100\u001b[0;31m             \u001b[0minput\u001b[0m \u001b[0;34m=\u001b[0m \u001b[0mmodule\u001b[0m\u001b[0;34m(\u001b[0m\u001b[0minput\u001b[0m\u001b[0;34m)\u001b[0m\u001b[0;34m\u001b[0m\u001b[0;34m\u001b[0m\u001b[0m\n\u001b[0m\u001b[1;32m    101\u001b[0m         \u001b[0;32mreturn\u001b[0m \u001b[0minput\u001b[0m\u001b[0;34m\u001b[0m\u001b[0;34m\u001b[0m\u001b[0m\n\u001b[1;32m    102\u001b[0m \u001b[0;34m\u001b[0m\u001b[0m\n",
      "\u001b[0;32m/opt/miniconda3/envs/pytorch/lib/python3.7/site-packages/torch/nn/modules/module.py\u001b[0m in \u001b[0;36m__call__\u001b[0;34m(self, *input, **kwargs)\u001b[0m\n\u001b[1;32m    548\u001b[0m             \u001b[0mresult\u001b[0m \u001b[0;34m=\u001b[0m \u001b[0mself\u001b[0m\u001b[0;34m.\u001b[0m\u001b[0m_slow_forward\u001b[0m\u001b[0;34m(\u001b[0m\u001b[0;34m*\u001b[0m\u001b[0minput\u001b[0m\u001b[0;34m,\u001b[0m \u001b[0;34m**\u001b[0m\u001b[0mkwargs\u001b[0m\u001b[0;34m)\u001b[0m\u001b[0;34m\u001b[0m\u001b[0;34m\u001b[0m\u001b[0m\n\u001b[1;32m    549\u001b[0m         \u001b[0;32melse\u001b[0m\u001b[0;34m:\u001b[0m\u001b[0;34m\u001b[0m\u001b[0;34m\u001b[0m\u001b[0m\n\u001b[0;32m--> 550\u001b[0;31m             \u001b[0mresult\u001b[0m \u001b[0;34m=\u001b[0m \u001b[0mself\u001b[0m\u001b[0;34m.\u001b[0m\u001b[0mforward\u001b[0m\u001b[0;34m(\u001b[0m\u001b[0;34m*\u001b[0m\u001b[0minput\u001b[0m\u001b[0;34m,\u001b[0m \u001b[0;34m**\u001b[0m\u001b[0mkwargs\u001b[0m\u001b[0;34m)\u001b[0m\u001b[0;34m\u001b[0m\u001b[0;34m\u001b[0m\u001b[0m\n\u001b[0m\u001b[1;32m    551\u001b[0m         \u001b[0;32mfor\u001b[0m \u001b[0mhook\u001b[0m \u001b[0;32min\u001b[0m \u001b[0mself\u001b[0m\u001b[0;34m.\u001b[0m\u001b[0m_forward_hooks\u001b[0m\u001b[0;34m.\u001b[0m\u001b[0mvalues\u001b[0m\u001b[0;34m(\u001b[0m\u001b[0;34m)\u001b[0m\u001b[0;34m:\u001b[0m\u001b[0;34m\u001b[0m\u001b[0;34m\u001b[0m\u001b[0m\n\u001b[1;32m    552\u001b[0m             \u001b[0mhook_result\u001b[0m \u001b[0;34m=\u001b[0m \u001b[0mhook\u001b[0m\u001b[0;34m(\u001b[0m\u001b[0mself\u001b[0m\u001b[0;34m,\u001b[0m \u001b[0minput\u001b[0m\u001b[0;34m,\u001b[0m \u001b[0mresult\u001b[0m\u001b[0;34m)\u001b[0m\u001b[0;34m\u001b[0m\u001b[0;34m\u001b[0m\u001b[0m\n",
      "\u001b[0;32m~/Documents/side-projects/asynchronus-tcn/asynctcn/tcn.py\u001b[0m in \u001b[0;36mforward\u001b[0;34m(self, x)\u001b[0m\n\u001b[1;32m     44\u001b[0m \u001b[0;34m\u001b[0m\u001b[0m\n\u001b[1;32m     45\u001b[0m     \u001b[0;32mdef\u001b[0m \u001b[0mforward\u001b[0m\u001b[0;34m(\u001b[0m\u001b[0mself\u001b[0m\u001b[0;34m,\u001b[0m \u001b[0mx\u001b[0m\u001b[0;34m)\u001b[0m\u001b[0;34m:\u001b[0m\u001b[0;34m\u001b[0m\u001b[0;34m\u001b[0m\u001b[0m\n\u001b[0;32m---> 46\u001b[0;31m         \u001b[0mout\u001b[0m \u001b[0;34m=\u001b[0m \u001b[0mself\u001b[0m\u001b[0;34m.\u001b[0m\u001b[0mnet\u001b[0m\u001b[0;34m(\u001b[0m\u001b[0mx\u001b[0m\u001b[0;34m)\u001b[0m\u001b[0;34m\u001b[0m\u001b[0;34m\u001b[0m\u001b[0m\n\u001b[0m\u001b[1;32m     47\u001b[0m         \u001b[0mres\u001b[0m \u001b[0;34m=\u001b[0m \u001b[0mx\u001b[0m \u001b[0;32mif\u001b[0m \u001b[0mself\u001b[0m\u001b[0;34m.\u001b[0m\u001b[0mdownsample\u001b[0m \u001b[0;32mis\u001b[0m \u001b[0;32mNone\u001b[0m \u001b[0;32melse\u001b[0m \u001b[0mself\u001b[0m\u001b[0;34m.\u001b[0m\u001b[0mdownsample\u001b[0m\u001b[0;34m(\u001b[0m\u001b[0mx\u001b[0m\u001b[0;34m)\u001b[0m\u001b[0;34m\u001b[0m\u001b[0;34m\u001b[0m\u001b[0m\n\u001b[1;32m     48\u001b[0m         \u001b[0;32mreturn\u001b[0m \u001b[0mself\u001b[0m\u001b[0;34m.\u001b[0m\u001b[0mrelu\u001b[0m\u001b[0;34m(\u001b[0m\u001b[0mout\u001b[0m \u001b[0;34m+\u001b[0m \u001b[0mres\u001b[0m\u001b[0;34m)\u001b[0m\u001b[0;34m\u001b[0m\u001b[0;34m\u001b[0m\u001b[0m\n",
      "\u001b[0;32m/opt/miniconda3/envs/pytorch/lib/python3.7/site-packages/torch/nn/modules/module.py\u001b[0m in \u001b[0;36m__call__\u001b[0;34m(self, *input, **kwargs)\u001b[0m\n\u001b[1;32m    548\u001b[0m             \u001b[0mresult\u001b[0m \u001b[0;34m=\u001b[0m \u001b[0mself\u001b[0m\u001b[0;34m.\u001b[0m\u001b[0m_slow_forward\u001b[0m\u001b[0;34m(\u001b[0m\u001b[0;34m*\u001b[0m\u001b[0minput\u001b[0m\u001b[0;34m,\u001b[0m \u001b[0;34m**\u001b[0m\u001b[0mkwargs\u001b[0m\u001b[0;34m)\u001b[0m\u001b[0;34m\u001b[0m\u001b[0;34m\u001b[0m\u001b[0m\n\u001b[1;32m    549\u001b[0m         \u001b[0;32melse\u001b[0m\u001b[0;34m:\u001b[0m\u001b[0;34m\u001b[0m\u001b[0;34m\u001b[0m\u001b[0m\n\u001b[0;32m--> 550\u001b[0;31m             \u001b[0mresult\u001b[0m \u001b[0;34m=\u001b[0m \u001b[0mself\u001b[0m\u001b[0;34m.\u001b[0m\u001b[0mforward\u001b[0m\u001b[0;34m(\u001b[0m\u001b[0;34m*\u001b[0m\u001b[0minput\u001b[0m\u001b[0;34m,\u001b[0m \u001b[0;34m**\u001b[0m\u001b[0mkwargs\u001b[0m\u001b[0;34m)\u001b[0m\u001b[0;34m\u001b[0m\u001b[0;34m\u001b[0m\u001b[0m\n\u001b[0m\u001b[1;32m    551\u001b[0m         \u001b[0;32mfor\u001b[0m \u001b[0mhook\u001b[0m \u001b[0;32min\u001b[0m \u001b[0mself\u001b[0m\u001b[0;34m.\u001b[0m\u001b[0m_forward_hooks\u001b[0m\u001b[0;34m.\u001b[0m\u001b[0mvalues\u001b[0m\u001b[0;34m(\u001b[0m\u001b[0;34m)\u001b[0m\u001b[0;34m:\u001b[0m\u001b[0;34m\u001b[0m\u001b[0;34m\u001b[0m\u001b[0m\n\u001b[1;32m    552\u001b[0m             \u001b[0mhook_result\u001b[0m \u001b[0;34m=\u001b[0m \u001b[0mhook\u001b[0m\u001b[0;34m(\u001b[0m\u001b[0mself\u001b[0m\u001b[0;34m,\u001b[0m \u001b[0minput\u001b[0m\u001b[0;34m,\u001b[0m \u001b[0mresult\u001b[0m\u001b[0;34m)\u001b[0m\u001b[0;34m\u001b[0m\u001b[0;34m\u001b[0m\u001b[0m\n",
      "\u001b[0;32m/opt/miniconda3/envs/pytorch/lib/python3.7/site-packages/torch/nn/modules/container.py\u001b[0m in \u001b[0;36mforward\u001b[0;34m(self, input)\u001b[0m\n\u001b[1;32m     98\u001b[0m     \u001b[0;32mdef\u001b[0m \u001b[0mforward\u001b[0m\u001b[0;34m(\u001b[0m\u001b[0mself\u001b[0m\u001b[0;34m,\u001b[0m \u001b[0minput\u001b[0m\u001b[0;34m)\u001b[0m\u001b[0;34m:\u001b[0m\u001b[0;34m\u001b[0m\u001b[0;34m\u001b[0m\u001b[0m\n\u001b[1;32m     99\u001b[0m         \u001b[0;32mfor\u001b[0m \u001b[0mmodule\u001b[0m \u001b[0;32min\u001b[0m \u001b[0mself\u001b[0m\u001b[0;34m:\u001b[0m\u001b[0;34m\u001b[0m\u001b[0;34m\u001b[0m\u001b[0m\n\u001b[0;32m--> 100\u001b[0;31m             \u001b[0minput\u001b[0m \u001b[0;34m=\u001b[0m \u001b[0mmodule\u001b[0m\u001b[0;34m(\u001b[0m\u001b[0minput\u001b[0m\u001b[0;34m)\u001b[0m\u001b[0;34m\u001b[0m\u001b[0;34m\u001b[0m\u001b[0m\n\u001b[0m\u001b[1;32m    101\u001b[0m         \u001b[0;32mreturn\u001b[0m \u001b[0minput\u001b[0m\u001b[0;34m\u001b[0m\u001b[0;34m\u001b[0m\u001b[0m\n\u001b[1;32m    102\u001b[0m \u001b[0;34m\u001b[0m\u001b[0m\n",
      "\u001b[0;32m/opt/miniconda3/envs/pytorch/lib/python3.7/site-packages/torch/nn/modules/module.py\u001b[0m in \u001b[0;36m__call__\u001b[0;34m(self, *input, **kwargs)\u001b[0m\n\u001b[1;32m    549\u001b[0m         \u001b[0;32melse\u001b[0m\u001b[0;34m:\u001b[0m\u001b[0;34m\u001b[0m\u001b[0;34m\u001b[0m\u001b[0m\n\u001b[1;32m    550\u001b[0m             \u001b[0mresult\u001b[0m \u001b[0;34m=\u001b[0m \u001b[0mself\u001b[0m\u001b[0;34m.\u001b[0m\u001b[0mforward\u001b[0m\u001b[0;34m(\u001b[0m\u001b[0;34m*\u001b[0m\u001b[0minput\u001b[0m\u001b[0;34m,\u001b[0m \u001b[0;34m**\u001b[0m\u001b[0mkwargs\u001b[0m\u001b[0;34m)\u001b[0m\u001b[0;34m\u001b[0m\u001b[0;34m\u001b[0m\u001b[0m\n\u001b[0;32m--> 551\u001b[0;31m         \u001b[0;32mfor\u001b[0m \u001b[0mhook\u001b[0m \u001b[0;32min\u001b[0m \u001b[0mself\u001b[0m\u001b[0;34m.\u001b[0m\u001b[0m_forward_hooks\u001b[0m\u001b[0;34m.\u001b[0m\u001b[0mvalues\u001b[0m\u001b[0;34m(\u001b[0m\u001b[0;34m)\u001b[0m\u001b[0;34m:\u001b[0m\u001b[0;34m\u001b[0m\u001b[0;34m\u001b[0m\u001b[0m\n\u001b[0m\u001b[1;32m    552\u001b[0m             \u001b[0mhook_result\u001b[0m \u001b[0;34m=\u001b[0m \u001b[0mhook\u001b[0m\u001b[0;34m(\u001b[0m\u001b[0mself\u001b[0m\u001b[0;34m,\u001b[0m \u001b[0minput\u001b[0m\u001b[0;34m,\u001b[0m \u001b[0mresult\u001b[0m\u001b[0;34m)\u001b[0m\u001b[0;34m\u001b[0m\u001b[0;34m\u001b[0m\u001b[0m\n\u001b[1;32m    553\u001b[0m             \u001b[0;32mif\u001b[0m \u001b[0mhook_result\u001b[0m \u001b[0;32mis\u001b[0m \u001b[0;32mnot\u001b[0m \u001b[0;32mNone\u001b[0m\u001b[0;34m:\u001b[0m\u001b[0;34m\u001b[0m\u001b[0;34m\u001b[0m\u001b[0m\n",
      "\u001b[0;31mKeyboardInterrupt\u001b[0m: "
     ]
    }
   ],
   "source": [
    "model.train()\n",
    "batch_idx = 1\n",
    "total_loss = 0\n",
    "\n",
    "for i, (X, y, lab) in enumerate(dataloader):\n",
    "    optimizer.zero_grad()\n",
    "    output = model(X.float(), int(lab[0]))\n",
    "    loss = F.mse_loss(output, y.float())\n",
    "    loss.backward()\n",
    "#     if args.clip > 0:\n",
    "#         torch.nn.utils.clip_grad_norm_(model.parameters(), args.clip)\n",
    "    optimizer.step()\n",
    "    total_loss += loss.item()\n",
    "\n",
    "    if i % 5 == 0:\n",
    "        cur_loss = total_loss / 5\n",
    "        processed = min(i+8, 10000)\n",
    "        print('Train Epoch: {:2d} [{:6d}/{:6d} ({:.0f}%)]\\tLearning rate: {:.4f}\\tLoss: {:.6f}'.format(\n",
    "            1, processed, 100000, 100.*processed/100000, 0.005, cur_loss))\n",
    "        total_loss = 0"
   ]
  },
  {
   "cell_type": "code",
   "execution_count": null,
   "metadata": {},
   "outputs": [],
   "source": []
  }
 ],
 "metadata": {
  "kernelspec": {
   "display_name": "Python 3",
   "language": "python",
   "name": "python3"
  },
  "language_info": {
   "codemirror_mode": {
    "name": "ipython",
    "version": 3
   },
   "file_extension": ".py",
   "mimetype": "text/x-python",
   "name": "python",
   "nbconvert_exporter": "python",
   "pygments_lexer": "ipython3",
   "version": "3.7.7"
  }
 },
 "nbformat": 4,
 "nbformat_minor": 4
}
